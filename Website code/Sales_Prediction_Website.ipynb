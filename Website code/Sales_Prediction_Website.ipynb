{
  "cells": [
    {
      "cell_type": "markdown",
      "metadata": {
        "id": "view-in-github",
        "colab_type": "text"
      },
      "source": [
        "<a href=\"https://colab.research.google.com/github/Pranshu244/Sales-Prediction-Project/blob/main/Website%20code/Sales_Prediction_Website.ipynb\" target=\"_parent\"><img src=\"https://colab.research.google.com/assets/colab-badge.svg\" alt=\"Open In Colab\"/></a>"
      ]
    },
    {
      "cell_type": "code",
      "execution_count": null,
      "metadata": {
        "id": "Eu5WCLLY0XAS"
      },
      "outputs": [],
      "source": [
        "!pip install streamlit"
      ]
    },
    {
      "cell_type": "code",
      "execution_count": null,
      "metadata": {
        "id": "i9I0O_E70i0I"
      },
      "outputs": [],
      "source": [
        "%%writefile Sales_Prediction_App.py\n",
        "#Imports\n",
        "import streamlit as st\n",
        "import pickle\n",
        "import numpy as np\n",
        "#File Uploader\n",
        "st.title('Sales Prediction Website')\n",
        "uploaded_model = st.file_uploader('Upload model.pkl', type='pkl')\n",
        "if uploaded_model is not None:\n",
        "    loaded_model = pickle.load(uploaded_model)\n",
        "    st.session_state['model'] = loaded_model\n",
        "    st.success(\"Model loaded successfully!\")\n",
        "\n",
        "else:\n",
        "   st.error('Model.pkl not found!')\n",
        "\n",
        "#Inputs\n",
        "tv_bud=st.number_input('TV Ad Budget ($1000):')\n",
        "radio_bud=st.number_input('Radio Ad Budget ($1000):')\n",
        "newspaper_bud=st.number_input('Newspaper Ad Budget ($1000):')\n",
        "\n",
        "#Button and Prediction\n",
        "if st.button('Predict Sales'):\n",
        "  input=np.array([[tv_bud,radio_bud,newspaper_bud]])\n",
        "  model=st.session_state.get('model',None)\n",
        "  if model:\n",
        "    prediction=model.predict(input)\n",
        "    st.write(f'Predicted Sales:${prediction[0]:.2f}k')\n",
        "  else:\n",
        "    st.error('Model not found. Please upload your model.')\n",
        "\n",
        "#Background Color\n",
        "st.markdown(\n",
        "    \"\"\"\n",
        "    <style>.stApp{background-color: #b7ff6f;}</style>\n",
        "    \"\"\",\n",
        "    unsafe_allow_html=True\n",
        ")\n"
      ]
    },
    {
      "cell_type": "code",
      "execution_count": null,
      "metadata": {
        "id": "GCGPqzKM_DJ4"
      },
      "outputs": [],
      "source": [
        "!wget -q -O - ipv4.icanhazip.com\n"
      ]
    },
    {
      "cell_type": "code",
      "execution_count": null,
      "metadata": {
        "id": "4hPmEhkM8GP4"
      },
      "outputs": [],
      "source": [
        "!streamlit run Sales_Prediction_App.py & npx localtunnel --port 8501"
      ]
    }
  ],
  "metadata": {
    "colab": {
      "provenance": [],
      "authorship_tag": "ABX9TyPAhEWbDIeNfynWXIt9IQzk",
      "include_colab_link": true
    },
    "kernelspec": {
      "display_name": "Python 3",
      "name": "python3"
    },
    "language_info": {
      "name": "python"
    }
  },
  "nbformat": 4,
  "nbformat_minor": 0
}